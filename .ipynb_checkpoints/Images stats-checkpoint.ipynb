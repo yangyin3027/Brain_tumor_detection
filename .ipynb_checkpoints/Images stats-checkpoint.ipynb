{
 "cells": [
  {
   "cell_type": "markdown",
   "id": "ac8eb826",
   "metadata": {},
   "source": [
    "## This is a tutorial to compute image mean and std for image normalization"
   ]
  },
  {
   "cell_type": "code",
   "execution_count": 2,
   "id": "30c65cba",
   "metadata": {},
   "outputs": [],
   "source": [
    "import torch\n",
    "import torchvision\n",
    "from torchvision import transforms,datasets\n",
    "from tqdm import tqdm"
   ]
  },
  {
   "cell_type": "code",
   "execution_count": 3,
   "id": "37bd9443",
   "metadata": {},
   "outputs": [],
   "source": [
    "augs = transforms.Compose([\n",
    "    transforms.Resize((64, 64)),   \n",
    "])\n",
    "\n",
    "image_dataset = datasets.ImageFolder(root = './images/',\n",
    "                                    transform = augs)\n",
    "\n",
    "image_loader = torch.utils.data.DataLoader(image_dataset,\n",
    "                                  batch_size = 32,\n",
    "                                  shuffle = True)"
   ]
  },
  {
   "cell_type": "code",
   "execution_count": 5,
   "id": "4357a14f",
   "metadata": {},
   "outputs": [
    {
     "data": {
      "text/plain": [
       "Dataset ImageFolder\n",
       "    Number of datapoints: 253\n",
       "    Root location: ./images/\n",
       "    StandardTransform\n",
       "Transform: Compose(\n",
       "               Resize(size=(64, 64), interpolation=bilinear, max_size=None, antialias=None)\n",
       "           )"
      ]
     },
     "execution_count": 5,
     "metadata": {},
     "output_type": "execute_result"
    }
   ],
   "source": [
    "image_dataset"
   ]
  },
  {
   "cell_type": "markdown",
   "id": "469e362f",
   "metadata": {},
   "source": [
    "### Compute mean/std"
   ]
  },
  {
   "cell_type": "code",
   "execution_count": 4,
   "id": "0854eb16",
   "metadata": {},
   "outputs": [
    {
     "name": "stderr",
     "output_type": "stream",
     "text": [
      "100%|██████████████████████████████████████████████████████████████████████████████████████████████████████████████████████████████████████████████████████████| 8/8 [00:00<00:00, 14.63it/s]"
     ]
    },
    {
     "name": "stdout",
     "output_type": "stream",
     "text": [
      "mean:\t [0.2451813  0.24542268 0.24551283]\n",
      "std:\t [0.2235546  0.22381799 0.22402456]\n"
     ]
    },
    {
     "name": "stderr",
     "output_type": "stream",
     "text": [
      "\n"
     ]
    }
   ],
   "source": [
    "psum = torch.zeros(3, dtype =torch.float32)\n",
    "psum_sq = torch.zeros(3, dtype=torch.float32)\n",
    "\n",
    "for inputs, labels in tqdm(image_loader):\n",
    "    psum += inputs.sum(axis = [0,2,3])\n",
    "    psum_sq += (inputs**2).sum(axis = [0,2,3])\n",
    "\n",
    "# pixel count\n",
    "batch_size = 32\n",
    "img_width = 64\n",
    "img_height = 64\n",
    "\n",
    "count = len(image_loader)*batch_size*img_width*img_height\n",
    "\n",
    "# mean and std\n",
    "mean = psum / count\n",
    "var = psum_sq / count - mean**2\n",
    "std = torch.sqrt(var)\n",
    "\n",
    "print('mean:\\t', mean.numpy())\n",
    "print('std:\\t', std.numpy())"
   ]
  },
  {
   "cell_type": "markdown",
   "id": "4f662d49",
   "metadata": {},
   "source": [
    "## Customize a Dataset object"
   ]
  },
  {
   "cell_type": "code",
   "execution_count": 49,
   "id": "66d10d26",
   "metadata": {},
   "outputs": [],
   "source": [
    "from torch.utils.data import Dataset, DataLoader\n",
    "from skimage.io import imread\n",
    "from torchvision.io import read_image\n",
    "import pandas as pd\n",
    "import os\n",
    "\n",
    "class CustomImageDataset(Dataset):\n",
    "    '''A custom Dataset class must implement three functions:\n",
    "    __init__, __len__, __getitem__'''\n",
    "    def __init__(self,data,directory, transform = None):\n",
    "        self.data = data\n",
    "        self.directory = directory\n",
    "        self.transform = transform\n",
    "    \n",
    "    def __len__(self):\n",
    "        return len(self.data)\n",
    "    \n",
    "    def __getitem__(self, idx):\n",
    "        \n",
    "        img_path = os.path.join(self.directory, self.data.iloc[idx, 0])\n",
    "        img = read_image(img_path, mode = torchvision.io.ImageReadMode.GRAY)\n",
    "        label = self.data.iloc[idx, 1]\n",
    "        if self.transform:\n",
    "            img = self.transform(img)\n",
    "        return img, label"
   ]
  },
  {
   "cell_type": "code",
   "execution_count": 50,
   "id": "d4354182",
   "metadata": {},
   "outputs": [],
   "source": [
    "def imagefolder_df(directory):\n",
    "    path = [f for f in os.listdir(directory) if not f.startswith('.')]\n",
    "    if path and os.path.isdir(os.path.join(directory,path[0])):\n",
    "        files_col = []\n",
    "        label_col = []\n",
    "        for label in path:\n",
    "            files = [os.path.join(label, f) \n",
    "                     for f in os.listdir(os.path.join(directory, label))]\n",
    "            label_ = [label] * len(files)\n",
    "            files_col.extend(files)\n",
    "            label_col.extend(label_)\n",
    "            \n",
    "        df = pd.DataFrame({'files': files_col, 'labels': label_col})\n",
    "    else:\n",
    "        df = pd.DataFrame({'files':path})\n",
    "    return df"
   ]
  }
 ],
 "metadata": {
  "kernelspec": {
   "display_name": "Python 3 (ipykernel)",
   "language": "python",
   "name": "python3"
  },
  "language_info": {
   "codemirror_mode": {
    "name": "ipython",
    "version": 3
   },
   "file_extension": ".py",
   "mimetype": "text/x-python",
   "name": "python",
   "nbconvert_exporter": "python",
   "pygments_lexer": "ipython3",
   "version": "3.10.0"
  }
 },
 "nbformat": 4,
 "nbformat_minor": 5
}
